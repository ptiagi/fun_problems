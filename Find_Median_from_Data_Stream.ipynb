{
 "cells": [
  {
   "cell_type": "code",
   "execution_count": 22,
   "id": "a6d7fa4e",
   "metadata": {},
   "outputs": [],
   "source": [
    "import heapq\n",
    "class MedianFinder:\n",
    "\n",
    "    def __init__(self):\n",
    "        self.lower_half = []\n",
    "        self.upper_half = []\n",
    "\n",
    "    def addNum(self, num: int) -> None:\n",
    "        if len(self.lower_half) == 0:\n",
    "            heapq.heappush(self.lower_half, -num)\n",
    "            return\n",
    "        if num <= self.lower_half[0]:\n",
    "            heapq.heappush(self.lower_half, -num)\n",
    "        else:\n",
    "            heapq.heappush(self.upper_half, num)\n",
    "        \n",
    "        # Adjusting the balance\n",
    "        \n",
    "        # If the lowerhalf heap has more elements\n",
    "        if len(self.lower_half) - len(self.upper_half) == 2:\n",
    "            heapq.heappush(self.upper_half, - heapq.heappop(self.lower_half))\n",
    "        \n",
    "        # If the upperhalf heap has more elements\n",
    "        elif len(self.upper_half) - len(self.lower_half) == 2:\n",
    "            heapq.heappush(self.lower_half, - heapq.heappop(self.upper_half))\n",
    "\n",
    "    def findMedian(self) -> float:\n",
    "        if len(self.lower_half) == len(self.upper_half):\n",
    "            return (- self.lower_half[0] + self.upper_half[0] )/2.0 \n",
    "            # - sign because lowerhalf has negative value\n",
    "        elif len(self.lower_half) > len(self.upper_half):\n",
    "            return -float(self.lower_half[0])\n",
    "        else:\n",
    "            return float(self.upper_half[0])"
   ]
  },
  {
   "cell_type": "code",
   "execution_count": 25,
   "id": "0fcf2930",
   "metadata": {},
   "outputs": [
    {
     "data": {
      "text/plain": [
       "2.0"
      ]
     },
     "execution_count": 25,
     "metadata": {},
     "output_type": "execute_result"
    }
   ],
   "source": [
    "# Your MedianFinder object will be instantiated and called as such:\n",
    "medianFinder = MedianFinder();\n",
    "medianFinder.addNum(1);    # arr = [1]\n",
    "medianFinder.addNum(2);    # arr = [1, 2]\n",
    "medianFinder.findMedian(); # return 1.5 (i.e., (1 + 2) / 2)\n",
    "medianFinder.addNum(3);    # arr[1, 2, 3]\n",
    "medianFinder.findMedian(); # return 2.0\n",
    "medianFinder.findMedian()"
   ]
  },
  {
   "cell_type": "code",
   "execution_count": null,
   "id": "7ec4d743",
   "metadata": {},
   "outputs": [],
   "source": []
  }
 ],
 "metadata": {
  "kernelspec": {
   "display_name": "Python 3 (ipykernel)",
   "language": "python",
   "name": "python3"
  },
  "language_info": {
   "codemirror_mode": {
    "name": "ipython",
    "version": 3
   },
   "file_extension": ".py",
   "mimetype": "text/x-python",
   "name": "python",
   "nbconvert_exporter": "python",
   "pygments_lexer": "ipython3",
   "version": "3.10.4"
  }
 },
 "nbformat": 4,
 "nbformat_minor": 5
}
